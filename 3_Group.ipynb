{
 "cells": [
  {
   "cell_type": "markdown",
   "id": "494ba26c",
   "metadata": {},
   "source": [
    "# Grouping 👨‍👦‍👦👩‍👩‍👧\n",
    "\n",
    "So now you can get:\n",
    "- All the data as is (`SELECT *`)\n",
    "- Just a few columns (by selecting specific columns)\n",
    "- Just a few rows (by adding a `WHERE` clause)\n",
    "- Sorted by a column (using `ORDER BY`)\n",
    "- Data from several tables together (with various `JOIN`s)\n",
    "\n",
    "Nice! But what if we wanted to have some high-level insights on that data? These are some examples that might ring a bell:\n",
    "- How many sales per city or per store?\n",
    "- How many customers bought a specific product?\n",
    "- What's the average transaction amount?\n",
    "\n",
    "Of course, the plain data that we start with doesn't have these values in some \"cell\". We need to calculate them, but how?\n",
    "\n",
    "Introducing: **GROUP BY**!\n",
    "- `GROUP BY` can separate the data logically based on some criteria.\n",
    "- Gets applied after the rest of the query (so you can still `SELECT` stuff `FROM` somewhere `WHERE` conditions).\n",
    "- Splits logically the data into groups, so that you'll have one line per group in the results.\n",
    "- We typically use it because we can then *do something* with the group, e.g., apply an *aggregate function* (`SUM`, `MAX`, `MIN`, `AVG`, `COUNT`).\n",
    "\n",
    "But let's start with these **Aggregate Functions**:"
   ]
  },
  {
   "cell_type": "markdown",
   "id": "d99b7e13",
   "metadata": {},
   "source": [
    "# Aggregate Functions\n",
    "\n",
    "Let's say you have a table with sales. It's quite common. The first thing you might want to know is:\n",
    "\n",
    "- How much did we sell on a specific day?\n",
    "- What's the average price?\n",
    "- How many purchases do we have?\n",
    "- What are the min and max prices we sold a given SKU at?\n",
    "\n",
    "Well, using what we learned so far, we have no way of answering that question yet. Luckily, **Aggregate Functions** are here to help us!"
   ]
  },
  {
   "cell_type": "markdown",
   "id": "1298a7b2",
   "metadata": {},
   "source": [
    "# `SUM` ➕\n",
    "\n",
    "Using `SUM`, we need to specify the column we want to sum up. The result will be just one row, with the summed-up value. Pretty simple, right?"
   ]
  },
  {
   "cell_type": "code",
   "execution_count": null,
   "id": "accf4961",
   "metadata": {},
   "outputs": [],
   "source": [
    "# Let's sum up the total spent after a certain date\n",
    "%sql\n",
    "SELECT SUM(tot_spent) AS total_revenue\n",
    "FROM sql_101_transactions_ext\n",
    "WHERE transaction_date > '2024-07-01';"
   ]
  },
  {
   "cell_type": "markdown",
   "id": "7f1fbe79",
   "metadata": {},
   "source": [
    "### Make it Fancy!\n",
    "# Aliases 🎭\n",
    "\n",
    "The column name is a bit ugly.\n",
    "\n",
    "When we create new columns like the `SUM` here, we might want to give them a proper name. To do so, we use the **`AS`** statement."
   ]
  },
  {
   "cell_type": "code",
   "execution_count": null,
   "id": "b3a0d89b",
   "metadata": {},
   "outputs": [],
   "source": [
    "# The previous query already uses an alias, but let's see another example\n",
    "%sql\n",
    "SELECT SUM(amount) AS total_units_sold\n",
    "FROM sql_101_transactions_ext\n",
    "WHERE transaction_date > '2024-07-01';"
   ]
  },
  {
   "cell_type": "markdown",
   "id": "955ee605",
   "metadata": {},
   "source": [
    "# `MAX` & `MIN` 🔶🔸\n",
    "\n",
    "`MAX` and `MIN` will return the maximum or minimum value they encounter in the specified column. The result will be just one row, with that value."
   ]
  },
  {
   "cell_type": "code",
   "execution_count": null,
   "id": "8c19a73e",
   "metadata": {},
   "outputs": [],
   "source": [
    "# Finding the minimum and maximum total spent in transactions after July 1st\n",
    "%sql\n",
    "SELECT MIN(tot_spent) AS min_spent,\n",
    "       MAX(tot_spent) AS max_spent\n",
    "FROM sql_101_transactions_ext\n",
    "WHERE transaction_date > '2024-07-01';"
   ]
  },
  {
   "cell_type": "markdown",
   "id": "46073afe",
   "metadata": {},
   "source": [
    "# `AVG` ➗\n",
    "\n",
    "`AVG` will return the average value in the specified column. The result will be just one row, with that value."
   ]
  },
  {
   "cell_type": "code",
   "execution_count": null,
   "id": "e33de15c",
   "metadata": {},
   "outputs": [],
   "source": [
    "# Calculating the average total spent after July 1st\n",
    "%sql\n",
    "SELECT AVG(tot_spent) AS avg_spent\n",
    "FROM sql_101_transactions_ext\n",
    "WHERE transaction_date > '2024-07-01';"
   ]
  },
  {
   "cell_type": "markdown",
   "id": "92143538",
   "metadata": {},
   "source": [
    "### Make it Fancy!\n",
    "# `ROUND` 🎱 \n",
    "\n",
    "Uuuhhh look at that monstrosity!\n",
    "\n",
    "We have way too many decimals here. What we can do is use **`ROUND`** to make sure we get a fixed number of decimals.\n",
    "\n",
    "`ROUND` gets a value and the number of desired digits as inputs."
   ]
  },
  {
   "cell_type": "code",
   "execution_count": null,
   "id": "79939551",
   "metadata": {},
   "outputs": [],
   "source": [
    "# Rounding the average total spent to 2 decimal places\n",
    "%sql\n",
    "SELECT ROUND(AVG(tot_spent), 2) AS avg_spent\n",
    "FROM sql_101_transactions_ext\n",
    "WHERE transaction_date > '2024-07-01';"
   ]
  },
  {
   "cell_type": "markdown",
   "id": "a14cff20",
   "metadata": {},
   "source": [
    "# `COUNT` ◼◼\n",
    "\n",
    "`COUNT` will simply return the number of lines we have selected.\n",
    "\n",
    "Since it counts lines instead of looking at a specific value, we can just ask it how many lines we have without specifying a column, using `COUNT(*)`.\n",
    "\n",
    "You can try to change the `WHERE` clause to get different results!"
   ]
  },
  {
   "cell_type": "code",
   "execution_count": null,
   "id": "45096aca",
   "metadata": {},
   "outputs": [],
   "source": [
    "# Counting the number of transactions after July 1st\n",
    "%sql\n",
    "SELECT COUNT(*) AS count_transactions,\n",
    "       SUM(tot_spent) AS total_revenue\n",
    "FROM sql_101_transactions_ext\n",
    "WHERE transaction_date > '2024-07-01';"
   ]
  },
  {
   "cell_type": "markdown",
   "id": "e46e917f",
   "metadata": {},
   "source": [
    "# 📚 Exercise!\n",
    "\n",
    "### What is the Min, Max, Avg `tot_spent` for 'Spaghetti N5'?"
   ]
  },
  {
   "cell_type": "code",
   "execution_count": null,
   "id": "75f3e725",
   "metadata": {},
   "outputs": [],
   "source": [
    "# Let's check the data first\n",
    "%sql\n",
    "SELECT * FROM sql_101_transactions_ext WHERE product_name = 'Spaghetti N5' LIMIT 5;"
   ]
  },
  {
   "cell_type": "code",
   "execution_count": null,
   "id": "90ba8551",
   "metadata": {},
   "outputs": [],
   "source": [
    "# Now, calculate the metrics\n",
    "%sql\n",
    "SELECT\n",
    "     MIN(tot_spent) AS min_spent,\n",
    "     MAX(tot_spent) AS max_spent,\n",
    "     ROUND(AVG(tot_spent), 2) AS avg_spent,\n",
    "     SUM(tot_spent) AS total_spent\n",
    "FROM sql_101_transactions_ext\n",
    "WHERE product_name = 'Spaghetti N5';"
   ]
  },
  {
   "cell_type": "markdown",
   "id": "abb4b0cd",
   "metadata": {},
   "source": [
    "# `GROUP BY` ⚫⚪\n",
    "\n",
    "Ok, so remember those *Aggregate Functions*? They sure are interesting, but they would be much more interesting if only we had a way of separating our data based on certain criteria and running the same *Aggregate Function* on each.\n",
    "\n",
    "Oh wait!\n",
    "\n",
    "For grouping, we insert the **`GROUP BY`** clause after the **`WHERE`** one, and we can list one or many columns we need to group by. It's very important to remember that:\n",
    "- Every column that appears in the **`GROUP BY`** needs to be also in the **`SELECT`**\n",
    "- In the **`SELECT`** there can only be the **`GROUP BY`** columns and **Aggregate Functions**"
   ]
  },
  {
   "cell_type": "code",
   "execution_count": null,
   "id": "045b5c90",
   "metadata": {},
   "outputs": [],
   "source": [
    "# Let's try to break down this fancy query in a few steps\n",
    "\n",
    "# Final query\n",
    "%sql\n",
    "SELECT brand, \n",
    "       category,\n",
    "       COUNT(*) AS nr_transactions, \n",
    "       ROUND(AVG(price_per_unit), 2) AS avg_unit_price,\n",
    "       ROUND(AVG(tot_spent), 2) AS avg_tot_spent,\n",
    "       MAX(transaction_date) AS last_transaction\n",
    "FROM sql_101_transactions_ext\n",
    "GROUP BY brand, category\n",
    "ORDER BY brand, category;"
   ]
  },
  {
   "cell_type": "markdown",
   "id": "d5072a64",
   "metadata": {},
   "source": [
    "Let's start with the `GROUP BY` structure. We initially group by the `brand` column.\n",
    "This will result in a single row per brand, so here's where we change our data granularity.\n",
    "These lines will now support all of the Aggregate Functions we want."
   ]
  },
  {
   "cell_type": "code",
   "execution_count": null,
   "id": "b8bff9c8",
   "metadata": {},
   "outputs": [],
   "source": [
    "# Grouping by brand\n",
    "%sql\n",
    "SELECT brand\n",
    "FROM sql_101_transactions_ext\n",
    "GROUP BY brand\n",
    "ORDER BY brand;"
   ]
  },
  {
   "cell_type": "markdown",
   "id": "fc003395",
   "metadata": {},
   "source": [
    "Now let's add an additional `GROUP BY` level. We can ideally group by as many fields as we want.\n",
    "The result will always be that each of those field values combinations will make up a new line.\n",
    "It's kind of the result you get with a `DISTINCT`, except we now can add all of the Aggregate Functions we want."
   ]
  },
  {
   "cell_type": "code",
   "execution_count": null,
   "id": "2e8ea18c",
   "metadata": {},
   "outputs": [],
   "source": [
    "# Grouping by brand and category\n",
    "%sql\n",
    "SELECT brand, category\n",
    "FROM sql_101_transactions_ext\n",
    "GROUP BY brand, category\n",
    "ORDER BY brand, category;"
   ]
  },
  {
   "cell_type": "markdown",
   "id": "6630c8a0",
   "metadata": {},
   "source": [
    "And now we add all of the Aggregate Functions we want, and voilà, the final query.\n",
    "Adding a count is especially useful because it lets you understand how many lines of the original table are \"hidden\" within each line in the grouped-up one."
   ]
  },
  {
   "cell_type": "code",
   "execution_count": null,
   "id": "d5cadd4d",
   "metadata": {},
   "outputs": [],
   "source": [
    "# Final query with aggregates\n",
    "%sql\n",
    "SELECT brand, \n",
    "       category,\n",
    "       COUNT(*) AS nr_transactions,\n",
    "       SUM(tot_spent) AS sum_tot,\n",
    "       ROUND(AVG(price_per_unit), 2) AS avg_unit_price,\n",
    "       ROUND(AVG(tot_spent), 2) AS avg_tot_spent,\n",
    "       MAX(transaction_date) AS last_transaction\n",
    "FROM sql_101_transactions_ext\n",
    "GROUP BY brand, category\n",
    "ORDER BY brand, category;"
   ]
  },
  {
   "cell_type": "markdown",
   "id": "ed39c3de",
   "metadata": {},
   "source": [
    "Another useful example:\n",
    "Let's compute the same metrics, but on the two different stores we have.\n",
    "In order to do this, the `GROUP BY` fields will change (and consequently also the first `SELECT` will)."
   ]
  },
  {
   "cell_type": "code",
   "execution_count": null,
   "id": "c678ad9b",
   "metadata": {},
   "outputs": [],
   "source": [
    "# Grouping by store_name\n",
    "%sql\n",
    "SELECT store_name,\n",
    "       COUNT(*) AS nr_transactions, \n",
    "       ROUND(AVG(price_per_unit), 2) AS avg_unit_price,\n",
    "       ROUND(AVG(tot_spent), 2) AS avg_tot_spent,\n",
    "       MAX(transaction_date) AS last_transaction\n",
    "FROM sql_101_transactions_ext\n",
    "GROUP BY store_name\n",
    "ORDER BY store_name;"
   ]
  },
  {
   "cell_type": "markdown",
   "id": "3aa95cf8",
   "metadata": {},
   "source": [
    "# 📚 Other Exercise!\n",
    "\n",
    "### Calculate the Revenue for each `product_name`"
   ]
  },
  {
   "cell_type": "code",
   "execution_count": null,
   "id": "2b014f1b",
   "metadata": {},
   "outputs": [],
   "source": [
    "# Calculating total revenue per product\n",
    "%sql\n",
    "SELECT product_name,\n",
    "       SUM(tot_spent) AS total_revenue\n",
    "FROM sql_101_transactions_ext\n",
    "GROUP BY product_name\n",
    "ORDER BY total_revenue DESC;"
   ]
  },
  {
   "cell_type": "markdown",
   "id": "087dec90",
   "metadata": {},
   "source": [
    "**Spoilers Ahead!**\n",
    "\n",
    "Calculate the total revenue for each SKU starting from June 1st."
   ]
  },
  {
   "cell_type": "code",
   "execution_count": null,
   "id": "c1f3e583",
   "metadata": {},
   "outputs": [],
   "source": [
    "%sql\n",
    "SELECT brand, product_name,\n",
    "       MAX(transaction_date) AS last_purchase_date,\n",
    "       SUM(tot_spent) AS revenue\n",
    "FROM sql_101_transactions_ext\n",
    "WHERE transaction_date >= '2024-06-01'\n",
    "GROUP BY brand, product_name\n",
    "ORDER BY brand;"
   ]
  },
  {
   "cell_type": "markdown",
   "id": "5929d9b7",
   "metadata": {},
   "source": [
    "# Big Recap 💡\n",
    "\n",
    "Today we entered the magical world of the Grouped Queries, learning about:\n",
    "\n",
    "- **Aggregate Functions**, such as `SUM()`, `MAX()`, `MIN()`, `AVG()`, and `COUNT()`. The key idea with these functions is that the result won't be a table anymore, but just a single value (the result of the sum, average, etc.).\n",
    "- **`GROUP BY`**, which allows us to divide our table into groups, based on the values of one or more fields. For example, if we apply a `GROUP BY brand`, the result set will have one line per each brand.\n",
    "- **Applying Aggregate Functions to Groups**. When we use the `GROUP BY`, we can include in the **`SELECT`** clause:\n",
    "  - The fields used for grouping\n",
    "  - Any number of Aggregate Functions, and this allows us to produce all sorts of metrics related to specific groups"
   ]
  },
  {
   "cell_type": "markdown",
   "id": "cb065e80",
   "metadata": {},
   "source": [
    "**Congratulations!** You've now mastered the basics of grouping and aggregating data using SQL. This is a powerful tool that will allow you to extract valuable insights from your data."
   ]
  }
 ],
 "metadata": {
  "jupytext": {
   "cell_metadata_filter": "-all",
   "main_language": "python",
   "notebook_metadata_filter": "-all"
  }
 },
 "nbformat": 4,
 "nbformat_minor": 5
}
