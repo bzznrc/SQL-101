{
 "cells": [
  {
   "cell_type": "markdown",
   "id": "af97b6f4",
   "metadata": {},
   "source": [
    "# Grouping 👨‍👦‍👦👩‍👩‍👧\n",
    "\n",
    "So now you can get:\n",
    "- All the data as is (`SELECT *`)\n",
    "- Just a few columns (by selecting specific columns)\n",
    "- Just a few rows (by adding a `WHERE` clause)\n",
    "- Sorted by a column (using `ORDER BY`)\n",
    "- Data from several tables together (with various `JOIN`s)\n",
    "\n",
    "Nice! But what if we wanted to have some high-level insights on that data? These are some examples that might ring a bell:\n",
    "- How many sales per city or per store?\n",
    "- How many customers bought a specific product?\n",
    "- What's the average transaction amount?\n",
    "\n",
    "Of course, the plain data that we start with doesn't have these values in some \"cell\". We need to calculate them, but how?\n",
    "\n",
    "Introducing: **GROUP BY**!\n",
    "- `GROUP BY` can separate the data logically based on some criteria.\n",
    "- Gets applied after the rest of the query (so you can still `SELECT` stuff `FROM` somewhere `WHERE` conditions).\n",
    "- Splits logically the data into groups, so that you'll have one line per group in the results.\n",
    "- We typically use it because we can then *do something* with the group, e.g., apply an *aggregate function* (`SUM`, `MAX`, `MIN`, `AVG`, `COUNT`).\n",
    "\n",
    "But let's start with these **Aggregate Functions**:"
   ]
  },
  {
   "cell_type": "code",
   "execution_count": null,
   "id": "d4a90ed7",
   "metadata": {},
   "outputs": [],
   "source": [
    "# Load the SQL extension\n",
    "%load_ext sql\n",
    "\n",
    "# Connect to the existing SQLite database file\n",
    "%sql sqlite:///my_database.db"
   ]
  },
  {
   "cell_type": "markdown",
   "id": "382f71f0",
   "metadata": {},
   "source": [
    "# Aggregate Functions\n",
    "\n",
    "Let's say you have a table with sales. It's quite common. The first thing you might want to know is:\n",
    "\n",
    "- How much did we sell on a specific day?\n",
    "- What's the average price?\n",
    "- How many purchases do we have?\n",
    "- What are the min and max prices we sold a given SKU at?\n",
    "\n",
    "Well, using what we learned so far, we have no way of answering that question yet. Luckily, **Aggregate Functions** are here to help us!"
   ]
  },
  {
   "cell_type": "markdown",
   "id": "5eab559f",
   "metadata": {},
   "source": [
    "# `SUM` ➕\n",
    "\n",
    "Using `SUM`, we need to specify the column we want to sum up. The result will be just one row, with the summed-up value. Pretty simple, right?"
   ]
  },
  {
   "cell_type": "code",
   "execution_count": null,
   "id": "1c3755cd",
   "metadata": {},
   "outputs": [],
   "source": [
    "# Let's sum up the total spent after a certain date\n",
    "\n",
    "%%sql\n",
    "SELECT SUM(tot_spent) AS total_revenue\n",
    "FROM sql_101_transactions_ext\n",
    "WHERE transaction_date > '2024-07-01';"
   ]
  },
  {
   "cell_type": "markdown",
   "id": "6059b2d3",
   "metadata": {},
   "source": [
    "### Make it Fancy!\n",
    "# Aliases 🎭\n",
    "\n",
    "The column name is a bit ugly.\n",
    "\n",
    "When we create new columns like the `SUM` here, we might want to give them a proper name. To do so, we use the **`AS`** statement."
   ]
  },
  {
   "cell_type": "code",
   "execution_count": null,
   "id": "5380939e",
   "metadata": {},
   "outputs": [],
   "source": [
    "# The previous query already uses an alias, but let's see another example\n",
    "\n",
    "%%sql\n",
    "SELECT SUM(amount) AS total_units_sold\n",
    "FROM sql_101_transactions_ext\n",
    "WHERE transaction_date > '2024-07-01';"
   ]
  },
  {
   "cell_type": "markdown",
   "id": "2cdf34e8",
   "metadata": {},
   "source": [
    "# `MAX` & `MIN` 🔶🔸\n",
    "\n",
    "`MAX` and `MIN` will return the maximum or minimum value they encounter in the specified column. The result will be just one row, with that value."
   ]
  },
  {
   "cell_type": "code",
   "execution_count": null,
   "id": "eeba8c10",
   "metadata": {},
   "outputs": [],
   "source": [
    "# Finding the minimum and maximum total spent in transactions after July 1st\n",
    "\n",
    "%%sql\n",
    "SELECT MIN(tot_spent) AS min_spent,\n",
    "       MAX(tot_spent) AS max_spent\n",
    "FROM sql_101_transactions_ext\n",
    "WHERE transaction_date > '2024-07-01';"
   ]
  },
  {
   "cell_type": "markdown",
   "id": "6647ada2",
   "metadata": {},
   "source": [
    "# `AVG` ➗\n",
    "\n",
    "`AVG` will return the average value in the specified column. The result will be just one row, with that value."
   ]
  },
  {
   "cell_type": "code",
   "execution_count": null,
   "id": "1626ec33",
   "metadata": {},
   "outputs": [],
   "source": [
    "# Calculating the average total spent after July 1st\n",
    "\n",
    "%%sql\n",
    "SELECT AVG(tot_spent) AS avg_spent\n",
    "FROM sql_101_transactions_ext\n",
    "WHERE transaction_date > '2024-07-01';"
   ]
  },
  {
   "cell_type": "markdown",
   "id": "c7271f86",
   "metadata": {},
   "source": [
    "### Make it Fancy!\n",
    "# `ROUND` 🎱 \n",
    "\n",
    "Uuuhhh look at that monstrosity!\n",
    "\n",
    "We have way too many decimals here. What we can do is use **`ROUND`** to make sure we get a fixed number of decimals.\n",
    "\n",
    "`ROUND` gets a value and the number of desired digits as inputs."
   ]
  },
  {
   "cell_type": "code",
   "execution_count": null,
   "id": "971562c5",
   "metadata": {},
   "outputs": [],
   "source": [
    "# Rounding the average total spent to 2 decimal places\n",
    "\n",
    "%%sql\n",
    "SELECT ROUND(AVG(tot_spent), 2) AS avg_spent\n",
    "FROM sql_101_transactions_ext\n",
    "WHERE transaction_date > '2024-07-01';"
   ]
  },
  {
   "cell_type": "markdown",
   "id": "d9158bcf",
   "metadata": {},
   "source": [
    "# `COUNT` ◼◼\n",
    "\n",
    "`COUNT` will simply return the number of lines we have selected.\n",
    "\n",
    "Since it counts lines instead of looking at a specific value, we can just ask it how many lines we have without specifying a column, using `COUNT(*)`.\n",
    "\n",
    "You can try to change the `WHERE` clause to get different results!"
   ]
  },
  {
   "cell_type": "code",
   "execution_count": null,
   "id": "ec44c492",
   "metadata": {},
   "outputs": [],
   "source": [
    "# Counting the number of transactions after July 1st\n",
    "\n",
    "%%sql\n",
    "SELECT COUNT(*) AS count_transactions,\n",
    "       SUM(tot_spent) AS total_revenue\n",
    "FROM sql_101_transactions_ext\n",
    "WHERE transaction_date > '2024-07-01';"
   ]
  },
  {
   "cell_type": "markdown",
   "id": "4ff6ad68",
   "metadata": {},
   "source": [
    "# 📚 Exercise!\n",
    "\n",
    "### What is the Min, Max, Avg `tot_spent` for 'Spaghetti N5'?"
   ]
  },
  {
   "cell_type": "code",
   "execution_count": null,
   "id": "2814ecb5",
   "metadata": {},
   "outputs": [],
   "source": [
    "# Let's check the data first\n",
    "\n",
    "%%sql\n",
    "SELECT * FROM sql_101_transactions_ext WHERE product_name = 'Spaghetti N5' LIMIT 5;"
   ]
  },
  {
   "cell_type": "code",
   "execution_count": null,
   "id": "18ac8631",
   "metadata": {},
   "outputs": [],
   "source": [
    "# Now, calculate the metrics\n",
    "\n",
    "%%sql\n",
    "SELECT\n",
    "     MIN(tot_spent) AS min_spent,\n",
    "     MAX(tot_spent) AS max_spent,\n",
    "     ROUND(AVG(tot_spent), 2) AS avg_spent,\n",
    "     SUM(tot_spent) AS total_spent\n",
    "FROM sql_101_transactions_ext\n",
    "WHERE product_name = 'Spaghetti N5';"
   ]
  },
  {
   "cell_type": "markdown",
   "id": "ca7dd5c4",
   "metadata": {},
   "source": [
    "# `GROUP BY` ⚫⚪\n",
    "\n",
    "Ok, so remember those *Aggregate Functions*? They sure are interesting, but they would be much more interesting if only we had a way of separating our data based on certain criteria and running the same *Aggregate Function* on each.\n",
    "\n",
    "Oh wait!\n",
    "\n",
    "For grouping, we insert the **`GROUP BY`** clause after the **`WHERE`** one, and we can list one or many columns we need to group by. It's very important to remember that:\n",
    "- Every column that appears in the **`GROUP BY`** needs to be also in the **`SELECT`**\n",
    "- In the **`SELECT`** there can only be the **`GROUP BY`** columns and **Aggregate Functions**"
   ]
  },
  {
   "cell_type": "code",
   "execution_count": null,
   "id": "c2518740",
   "metadata": {},
   "outputs": [],
   "source": [
    "# Let's try to break down this fancy query in a few steps\n",
    "\n",
    "# Final query\n",
    "\n",
    "%%sql\n",
    "SELECT brand, \n",
    "       category,\n",
    "       COUNT(*) AS nr_transactions, \n",
    "       ROUND(AVG(price_per_unit), 2) AS avg_unit_price,\n",
    "       ROUND(AVG(tot_spent), 2) AS avg_tot_spent,\n",
    "       MAX(transaction_date) AS last_transaction\n",
    "FROM sql_101_transactions_ext\n",
    "GROUP BY brand, category\n",
    "ORDER BY brand, category;"
   ]
  },
  {
   "cell_type": "markdown",
   "id": "a17eb406",
   "metadata": {},
   "source": [
    "Let's start with the `GROUP BY` structure. We initially group by the `brand` column.\n",
    "This will result in a single row per brand, so here's where we change our data granularity.\n",
    "These lines will now support all of the Aggregate Functions we want."
   ]
  },
  {
   "cell_type": "code",
   "execution_count": null,
   "id": "b04aa58b",
   "metadata": {},
   "outputs": [],
   "source": [
    "# Grouping by brand\n",
    "\n",
    "%%sql\n",
    "SELECT brand\n",
    "FROM sql_101_transactions_ext\n",
    "GROUP BY brand\n",
    "ORDER BY brand;"
   ]
  },
  {
   "cell_type": "markdown",
   "id": "5de536c2",
   "metadata": {},
   "source": [
    "Now let's add an additional `GROUP BY` level. We can ideally group by as many fields as we want.\n",
    "The result will always be that each of those field values combinations will make up a new line.\n",
    "It's kind of the result you get with a `DISTINCT`, except we now can add all of the Aggregate Functions we want."
   ]
  },
  {
   "cell_type": "code",
   "execution_count": null,
   "id": "1d6dffa0",
   "metadata": {},
   "outputs": [],
   "source": [
    "# Grouping by brand and category\n",
    "\n",
    "%%sql\n",
    "SELECT brand, category\n",
    "FROM sql_101_transactions_ext\n",
    "GROUP BY brand, category\n",
    "ORDER BY brand, category;"
   ]
  },
  {
   "cell_type": "markdown",
   "id": "19a338f6",
   "metadata": {},
   "source": [
    "And now we add all of the Aggregate Functions we want, and voilà, the final query.\n",
    "Adding a count is especially useful because it lets you understand how many lines of the original table are \"hidden\" within each line in the grouped-up one."
   ]
  },
  {
   "cell_type": "code",
   "execution_count": null,
   "id": "3fb60fab",
   "metadata": {},
   "outputs": [],
   "source": [
    "# Final query with aggregates\n",
    "\n",
    "%%sql\n",
    "SELECT brand, \n",
    "       category,\n",
    "       COUNT(*) AS nr_transactions,\n",
    "       SUM(tot_spent) AS sum_tot,\n",
    "       ROUND(AVG(price_per_unit), 2) AS avg_unit_price,\n",
    "       ROUND(AVG(tot_spent), 2) AS avg_tot_spent,\n",
    "       MAX(transaction_date) AS last_transaction\n",
    "FROM sql_101_transactions_ext\n",
    "GROUP BY brand, category\n",
    "ORDER BY brand, category;"
   ]
  },
  {
   "cell_type": "markdown",
   "id": "1c7374e6",
   "metadata": {},
   "source": [
    "Another useful example:\n",
    "Let's compute the same metrics, but on the two different stores we have.\n",
    "In order to do this, the `GROUP BY` fields will change (and consequently also the first `SELECT` will)."
   ]
  },
  {
   "cell_type": "code",
   "execution_count": null,
   "id": "eb9269b2",
   "metadata": {},
   "outputs": [],
   "source": [
    "# Grouping by store_name\n",
    "\n",
    "%%sql\n",
    "SELECT store_name,\n",
    "       COUNT(*) AS nr_transactions, \n",
    "       ROUND(AVG(price_per_unit), 2) AS avg_unit_price,\n",
    "       ROUND(AVG(tot_spent), 2) AS avg_tot_spent,\n",
    "       MAX(transaction_date) AS last_transaction\n",
    "FROM sql_101_transactions_ext\n",
    "GROUP BY store_name\n",
    "ORDER BY store_name;"
   ]
  },
  {
   "cell_type": "markdown",
   "id": "5be49746",
   "metadata": {},
   "source": [
    "# 📚 Other Exercise!\n",
    "\n",
    "### Calculate the Revenue for each `product_name`"
   ]
  },
  {
   "cell_type": "code",
   "execution_count": null,
   "id": "92c8086a",
   "metadata": {},
   "outputs": [],
   "source": [
    "# Calculating total revenue per product\n",
    "\n",
    "%%sql\n",
    "SELECT product_name,\n",
    "       SUM(tot_spent) AS total_revenue\n",
    "FROM sql_101_transactions_ext\n",
    "GROUP BY product_name\n",
    "ORDER BY total_revenue DESC;"
   ]
  },
  {
   "cell_type": "markdown",
   "id": "d08ac628",
   "metadata": {},
   "source": [
    "**Spoilers Ahead!**\n",
    "\n",
    "Calculate the total revenue for each SKU starting from June 1st."
   ]
  },
  {
   "cell_type": "code",
   "execution_count": null,
   "id": "83249259",
   "metadata": {},
   "outputs": [],
   "source": [
    "%%sql\n",
    "SELECT brand, product_name,\n",
    "       MAX(transaction_date) AS last_purchase_date,\n",
    "       SUM(tot_spent) AS revenue\n",
    "FROM sql_101_transactions_ext\n",
    "WHERE transaction_date >= '2024-06-01'\n",
    "GROUP BY brand, product_name\n",
    "ORDER BY brand;"
   ]
  },
  {
   "cell_type": "markdown",
   "id": "59d64242",
   "metadata": {},
   "source": [
    "# Big Recap 💡\n",
    "\n",
    "Today we entered the magical world of the Grouped Queries, learning about:\n",
    "\n",
    "- **Aggregate Functions**, such as `SUM()`, `MAX()`, `MIN()`, `AVG()`, and `COUNT()`. The key idea with these functions is that the result won't be a table anymore, but just a single value (the result of the sum, average, etc.).\n",
    "- **`GROUP BY`**, which allows us to divide our table into groups, based on the values of one or more fields. For example, if we apply a `GROUP BY brand`, the result set will have one line per each brand.\n",
    "- **Applying Aggregate Functions to Groups**. When we use the `GROUP BY`, we can include in the **`SELECT`** clause:\n",
    "  - The fields used for grouping\n",
    "  - Any number of Aggregate Functions, and this allows us to produce all sorts of metrics related to specific groups"
   ]
  },
  {
   "cell_type": "markdown",
   "id": "e900d49b",
   "metadata": {},
   "source": [
    "**Congratulations!** You've now mastered the basics of grouping and aggregating data using SQL. This is a powerful tool that will allow you to extract valuable insights from your data."
   ]
  }
 ],
 "metadata": {
  "jupytext": {
   "cell_metadata_filter": "-all",
   "main_language": "python",
   "notebook_metadata_filter": "-all"
  }
 },
 "nbformat": 4,
 "nbformat_minor": 5
}
