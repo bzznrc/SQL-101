{
 "cells": [
  {
   "cell_type": "markdown",
   "id": "0d1a6265",
   "metadata": {},
   "source": [
    "# Let's Get Some Data 💾\n",
    "\n",
    "To start working with SQL and perform our data tasks, we need some tables to play with. Let's create three tables:\n",
    "\n",
    "- `sql_101_store`\n",
    "- `sql_101_product`\n",
    "- `sql_101_transactions`\n",
    "\n",
    "*Ooooohhhhh!* (the audience is amazed here)."
   ]
  },
  {
   "cell_type": "code",
   "execution_count": null,
   "id": "ac84979d",
   "metadata": {},
   "outputs": [],
   "source": [
    "# Let's create our tables using SQL commands\n",
    "%sql\n",
    "CREATE OR REPLACE TABLE sql_101_store (\n",
    "    store_id INT,\n",
    "    store_name VARCHAR(100),\n",
    "    store_location VARCHAR(100),\n",
    "    store_manager VARCHAR(100),\n",
    "    store_open_date DATE,\n",
    "    store_phone VARCHAR(15)\n",
    ");\n",
    "\n",
    "CREATE OR REPLACE TABLE sql_101_product (\n",
    "    sku_id INT,\n",
    "    product_name VARCHAR(100),\n",
    "    category VARCHAR(50),\n",
    "    sub_category VARCHAR(50),\n",
    "    brand VARCHAR(50),\n",
    "    list_price DECIMAL(10, 2)\n",
    ");\n",
    "\n",
    "CREATE OR REPLACE TABLE sql_101_transactions (\n",
    "    transaction_id INT,\n",
    "    transaction_date DATE,\n",
    "    customer_id INT,\n",
    "    amount INT,\n",
    "    price_per_unit DECIMAL(10, 2),\n",
    "    sku_id INT,\n",
    "    store_id INT\n",
    ");"
   ]
  },
  {
   "cell_type": "markdown",
   "id": "a2c16237",
   "metadata": {},
   "source": [
    "Now that we've created our tables, let's insert some data into them."
   ]
  },
  {
   "cell_type": "code",
   "execution_count": null,
   "id": "82d4afaf",
   "metadata": {},
   "outputs": [],
   "source": [
    "# Inserting data into the sql_101_product table\n",
    "%sql\n",
    "INSERT INTO sql_101_product (sku_id, product_name, category, sub_category, brand, list_price) VALUES\n",
    "  (1, 'Spaghetti N5', 'pasta', 'long cut', 'Berillo', 1.60),\n",
    "  (2, 'Just Penne', 'pasta', 'short cut', 'De Cocco', 1.70),\n",
    "  (3, 'Fusilloni', 'pasta', 'short cut', 'Molisano', 1.80),\n",
    "  (4, 'Tomatoni Sauce', 'sauces', 'red', 'Motti', 2.50),\n",
    "  (5, 'Presto Pesto Sauce', 'sauces', 'pesto', 'Berillo', 3.00),\n",
    "  (6, 'Cileni Ripieni', 'bakery', 'biscuits', 'Berillo', 2.00),\n",
    "  (7, 'Biskotti', 'bakery', 'biscuits', 'Ferraro', 2.20),\n",
    "  (8, 'Also Penne', 'pasta', 'short cut', 'Berillo', 1.60),\n",
    "  (9, 'Fusillonioni', 'pasta', 'short cut', 'Berillo', 1.70),\n",
    "  (10, 'Spaghetti N5000', 'pasta', 'long cut', 'De Cocco', 2.00);"
   ]
  },
  {
   "cell_type": "code",
   "execution_count": null,
   "id": "5f28219b",
   "metadata": {},
   "outputs": [],
   "source": [
    "# Inserting data into the sql_101_store table\n",
    "%sql\n",
    "INSERT INTO sql_101_store (store_id, store_name, store_location, store_manager, store_open_date, store_phone) VALUES\n",
    "(1, 'Downtown Store', '123 Main St, Cityville', 'Alice Smith', '2020-01-15', '123-456-7890'),\n",
    "(2, 'Uptown Store', '456 High St, Cityville', 'Bob Johnson', '2019-03-10', '123-555-7890');"
   ]
  },
  {
   "cell_type": "markdown",
   "id": "d9a38d43",
   "metadata": {},
   "source": [
    "Now let's populate the `sql_101_transactions` table with some transaction data. Don't worry, ChatGPT helped with this part!"
   ]
  },
  {
   "cell_type": "code",
   "execution_count": null,
   "id": "1f7bbd38",
   "metadata": {},
   "outputs": [],
   "source": [
    "# Inserting data into the sql_101_transactions table\n",
    "%sql\n",
    "-- Inserting transactions data\n",
    "INSERT INTO sql_101_transactions (transaction_id, transaction_date, customer_id, amount, sku_id, price_per_unit, store_id) VALUES\n",
    "    (1, '2024-05-01', 101, 3, 1, 1.50, 1),\n",
    "    (2, '2024-05-02', 102, 2, 4, 2.50, 1),\n",
    "    (3, '2024-05-03', 103, 1, 6, 2.00, 2),\n",
    "    (4, '2024-05-04', 104, 5, 7, 2.20, 2),\n",
    "    (5, '2024-05-05', 105, 2, 2, 1.70, 1),\n",
    "    (6, '2024-05-06', 106, 3, 5, 3.00, 1),\n",
    "    (7, '2024-05-07', 107, 1, 3, 1.80, 2),\n",
    "    (8, '2024-05-08', 108, 4, 7, 2.20, 2),\n",
    "    (9, '2024-05-09', 109, 2, 1, 1.50, 1),\n",
    "    (10, '2024-05-10', 110, 5, 4, 2.50, 2),\n",
    "    -- ... (transactions 11 to 99)\n",
    "    (100, '2024-08-09', 130, 5, 4, 2.50, 2);"
   ]
  },
  {
   "cell_type": "markdown",
   "id": "393cf862",
   "metadata": {},
   "source": [
    "# Inspecting the Data 🔍\n",
    "\n",
    "Let's take a look at the data we've just inserted into our tables."
   ]
  },
  {
   "cell_type": "code",
   "execution_count": null,
   "id": "e8b93129",
   "metadata": {},
   "outputs": [],
   "source": [
    "# Selecting the first 10 rows from the sql_101_transactions table\n",
    "%sql\n",
    "SELECT * FROM sql_101_transactions LIMIT 10;"
   ]
  },
  {
   "cell_type": "code",
   "execution_count": null,
   "id": "955c193f",
   "metadata": {},
   "outputs": [],
   "source": [
    "# Selecting all the rows from the sql_101_product table\n",
    "%sql\n",
    "SELECT * FROM sql_101_product;"
   ]
  },
  {
   "cell_type": "code",
   "execution_count": null,
   "id": "970bd331",
   "metadata": {},
   "outputs": [],
   "source": [
    "# Selecting all the rows from the sql_101_store table\n",
    "%sql\n",
    "SELECT * FROM sql_101_store;"
   ]
  }
 ],
 "metadata": {
  "jupytext": {
   "cell_metadata_filter": "-all",
   "main_language": "python",
   "notebook_metadata_filter": "-all"
  }
 },
 "nbformat": 4,
 "nbformat_minor": 5
}
