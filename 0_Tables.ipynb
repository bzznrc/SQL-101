{
 "cells": [
  {
   "cell_type": "markdown",
   "id": "a6d6a39c",
   "metadata": {},
   "source": [
    "# Let's Get Some Data 💾\n",
    "\n",
    "To start working with SQL and perform our data tasks, we need some tables to play with. Let's create three tables:\n",
    "\n",
    "- `sql_101_store`\n",
    "- `sql_101_product`\n",
    "- `sql_101_transactions`\n",
    "\n",
    "*Ooooohhhhh!* (the audience is amazed here)."
   ]
  },
  {
   "cell_type": "code",
   "execution_count": null,
   "id": "872406eb",
   "metadata": {},
   "outputs": [],
   "source": [
    "# Load the SQL extension\n",
    "%load_ext sql\n",
    "\n",
    "# Connect to a SQLite database file\n",
    "%sql sqlite:///my_database.db"
   ]
  },
  {
   "cell_type": "code",
   "execution_count": null,
   "id": "978c0e80",
   "metadata": {},
   "outputs": [],
   "source": [
    "# Let's create our tables using SQL commands\n",
    "%%sql\n",
    "DROP TABLE IF EXISTS sql_101_store;\n",
    "CREATE TABLE sql_101_store (\n",
    "    store_id INT,\n",
    "    store_name TEXT,\n",
    "    store_location TEXT,\n",
    "    store_manager TEXT,\n",
    "    store_open_date DATE,\n",
    "    store_phone TEXT\n",
    ");\n",
    "\n",
    "DROP TABLE IF EXISTS sql_101_product;\n",
    "CREATE TABLE sql_101_product (\n",
    "    sku_id INT,\n",
    "    product_name TEXT,\n",
    "    category TEXT,\n",
    "    sub_category TEXT,\n",
    "    brand TEXT,\n",
    "    list_price DECIMAL(10, 2)\n",
    ");\n",
    "\n",
    "DROP TABLE IF EXISTS sql_101_transactions;\n",
    "CREATE TABLE sql_101_transactions (\n",
    "    transaction_id INT,\n",
    "    transaction_date DATE,\n",
    "    customer_id INT,\n",
    "    amount INT,\n",
    "    price_per_unit DECIMAL(10, 2),\n",
    "    sku_id INT,\n",
    "    store_id INT\n",
    ");"
   ]
  },
  {
   "cell_type": "markdown",
   "id": "1c884c3c",
   "metadata": {},
   "source": [
    "Now that we've created our tables, let's insert some data into them."
   ]
  },
  {
   "cell_type": "code",
   "execution_count": null,
   "id": "56a846de",
   "metadata": {},
   "outputs": [],
   "source": [
    "# Inserting data into the sql_101_product table\n",
    "%%sql\n",
    "INSERT INTO sql_101_product (sku_id, product_name, category, sub_category, brand, list_price) VALUES\n",
    "  (1, 'Spaghetti N5', 'pasta', 'long cut', 'Berillo', 1.60),\n",
    "  (2, 'Just Penne', 'pasta', 'short cut', 'De Cocco', 1.70),\n",
    "  (3, 'Fusilloni', 'pasta', 'short cut', 'Molisano', 1.80),\n",
    "  (4, 'Tomatoni Sauce', 'sauces', 'red', 'Motti', 2.50),\n",
    "  (5, 'Presto Pesto Sauce', 'sauces', 'pesto', 'Berillo', 3.00),\n",
    "  (6, 'Cileni Ripieni', 'bakery', 'biscuits', 'Berillo', 2.00),\n",
    "  (7, 'Biskotti', 'bakery', 'biscuits', 'Ferraro', 2.20),\n",
    "  (8, 'Also Penne', 'pasta', 'short cut', 'Berillo', 1.60),\n",
    "  (9, 'Fusillonioni', 'pasta', 'short cut', 'Berillo', 1.70),\n",
    "  (10, 'Spaghetti N5000', 'pasta', 'long cut', 'De Cocco', 2.00);"
   ]
  },
  {
   "cell_type": "code",
   "execution_count": null,
   "id": "87b70729",
   "metadata": {},
   "outputs": [],
   "source": [
    "# Inserting data into the sql_101_store table\n",
    "%%sql\n",
    "INSERT INTO sql_101_store (store_id, store_name, store_location, store_manager, store_open_date, store_phone) VALUES\n",
    "    (1, 'Downtown Store', '123 Main St, Cityville', 'Alice Smith', '2020-01-15', '123-456-7890'),\n",
    "    (2, 'Uptown Store', '456 High St, Cityville', 'Bob Johnson', '2019-03-10', '123-555-7890');"
   ]
  },
  {
   "cell_type": "markdown",
   "id": "2400f9e0",
   "metadata": {},
   "source": [
    "Now let's populate the `sql_101_transactions` table with some transaction data."
   ]
  },
  {
   "cell_type": "code",
   "execution_count": null,
   "id": "e7b9815b",
   "metadata": {},
   "outputs": [],
   "source": [
    "# Inserting data into the sql_101_transactions table\n",
    "%%sql\n",
    "INSERT INTO sql_101_transactions (transaction_id, transaction_date, customer_id, amount, price_per_unit, sku_id, store_id) VALUES\n",
    "    (1, '2024-05-01', 101, 3, 1.50, 1, 1),\n",
    "    (2, '2024-05-02', 102, 2, 2.50, 4, 1),\n",
    "    (3, '2024-05-03', 103, 1, 2.00, 6, 2),\n",
    "    (4, '2024-05-04', 104, 5, 2.20, 7, 2),\n",
    "    (5, '2024-05-05', 105, 2, 1.70, 2, 1),\n",
    "    (6, '2024-05-06', 106, 3, 3.00, 5, 1),\n",
    "    (7, '2024-05-07', 107, 1, 1.80, 3, 2),\n",
    "    (8, '2024-05-08', 108, 4, 2.20, 7, 2),\n",
    "    (9, '2024-05-09', 109, 2, 1.50, 1, 1),\n",
    "    (10, '2024-05-10', 110, 5, 2.50, 4, 2),\n",
    "    -- Add more transactions as needed\n",
    "    (11, '2024-06-01', 111, 3, 1.60, 8, 1),\n",
    "    (12, '2024-06-02', 112, 2, 2.00, 6, 1),\n",
    "    (13, '2024-06-03', 113, 4, 1.70, 2, 2),\n",
    "    (14, '2024-06-04', 114, 1, 2.50, 4, 2),\n",
    "    (15, '2024-06-05', 115, 5, 2.00, 6, 1),\n",
    "    (16, '2024-06-06', 116, 2, 1.80, 3, 1),\n",
    "    (17, '2024-06-07', 117, 3, 2.20, 7, 2),\n",
    "    (18, '2024-06-08', 118, 4, 1.70, 9, 2),\n",
    "    (19, '2024-06-09', 119, 2, 1.60, 1, 1),\n",
    "    (20, '2024-06-10', 120, 5, 2.00, 10, 1);\n",
    "    -- Continue adding transactions up to transaction_id 100"
   ]
  },
  {
   "cell_type": "markdown",
   "id": "e5c19a82",
   "metadata": {},
   "source": [
    "# Inspecting the Data 🔍\n",
    "\n",
    "Let's take a look at the data we've just inserted into our tables."
   ]
  },
  {
   "cell_type": "code",
   "execution_count": null,
   "id": "dcf88537",
   "metadata": {},
   "outputs": [],
   "source": [
    "# Selecting the first 10 rows from the sql_101_transactions table\n",
    "%%sql\n",
    "SELECT * FROM sql_101_transactions LIMIT 10;"
   ]
  },
  {
   "cell_type": "code",
   "execution_count": null,
   "id": "5573e001",
   "metadata": {},
   "outputs": [],
   "source": [
    "# Selecting all the rows from the sql_101_product table\n",
    "%%sql\n",
    "SELECT * FROM sql_101_product;"
   ]
  },
  {
   "cell_type": "code",
   "execution_count": null,
   "id": "017f86da",
   "metadata": {},
   "outputs": [],
   "source": [
    "# Selecting all the rows from the sql_101_store table\n",
    "%%sql\n",
    "SELECT * FROM sql_101_store;"
   ]
  }
 ],
 "metadata": {
  "jupytext": {
   "cell_metadata_filter": "-all",
   "main_language": "python",
   "notebook_metadata_filter": "-all"
  }
 },
 "nbformat": 4,
 "nbformat_minor": 5
}
