{
 "cells": [
  {
   "cell_type": "markdown",
   "id": "d247f757",
   "metadata": {},
   "source": [
    "# Is It S-Q-L or 'Sequel'? 🤷‍♂️\n",
    "\n",
    "**SQL** stands for **Structured Query Language**. SQL lets you access and manipulate databases. SQL is your friend.\n",
    "\n",
    "Programmers can be quite particular about how it's pronounced. To avoid losing half the audience at the second line, we'll be pronunciation-agnostic.\n",
    "\n",
    "### Declarative, Not Imperative 👑\n",
    "\n",
    "Most programming languages are considered *imperative*, meaning that the programmer defines the specific steps of the program (the **how** of the program).\n",
    "\n",
    "SQL, on the other hand, is a *declarative* language. This means that the programmer outlines the **what**, or the desired results, and an automated component (called the *query engine*) figures out the \"how\" to retrieve those results.\n",
    "\n",
    "### Nice. What Is a Database Then? 💾\n",
    "\n",
    "A database is an organized collection of structured information, or data, typically stored electronically in a computer system. A database is usually controlled by a **Database Management System (DBMS)**. Yes, I borrowed this from Google.\n",
    "\n",
    "Basically, a database is a collection of data tables. You can think of the tables as if they were Excel files, but with the difference that they're usually centralized somewhere instead of being random files."
   ]
  },
  {
   "cell_type": "code",
   "execution_count": null,
   "id": "b68ecc89",
   "metadata": {},
   "outputs": [],
   "source": [
    "# Load the SQL extension\n",
    "%load_ext sql\n",
    "\n",
    "# Connect to the existing SQLite database file\n",
    "%sql sqlite:///my_database.db"
   ]
  },
  {
   "cell_type": "markdown",
   "id": "bcad8e07",
   "metadata": {},
   "source": [
    "# SELECT Statement 👉\n",
    "\n",
    "Let's start with the basics. The basic structure of every query will be:\n",
    "\n",
    "- **SELECT** *[DISTINCT]* [columns]\n",
    "  - Here we list all the columns we want in the result set. We can use the wildcard `*` to include all available columns.\n",
    "  - We can use `DISTINCT` to have only one occurrence of each distinct row.\n",
    "- **FROM** [table]\n",
    "  - Here we specify the table we get the data from.\n",
    "\n",
    "After those two statements, we can have the following, in this order (these are all optional):\n",
    "\n",
    "- **WHERE** [conditions]\n",
    "  - Here we add the filters we might want to apply to the data.\n",
    "- **GROUP BY** [column]\n",
    "  - Here we specify the column(s) we want our data to be grouped by in the result set.\n",
    "  - Grouping is not a straightforward concept; we'll see it in a dedicated lesson.\n",
    "- **ORDER BY** [column] *[ASC/DESC]*\n",
    "  - Here we specify the column(s) we want our data to be ordered by in the result set.\n",
    "  - We can add `ASC` if we want them to be in ascending order, `DESC` for descending order. The default is ascending.\n",
    "- **LIMIT** [number of rows]\n",
    "  - Cuts the result to the first N rows."
   ]
  },
  {
   "cell_type": "markdown",
   "id": "a397ae63",
   "metadata": {},
   "source": [
    "**Note:** In the previous lesson, we set up our data tables (`sql_101_transactions`, `sql_101_product`, and `sql_101_store`). Make sure those tables are created and populated with data before running the queries below."
   ]
  },
  {
   "cell_type": "markdown",
   "id": "0f7ff08c",
   "metadata": {},
   "source": [
    "Let's see an example. This is a comment in SQL.\n",
    "\n",
    "This is the most basic query we can have. It means \"Select all columns (`*`) from the table `sql_101_transactions`\". Let's run it."
   ]
  },
  {
   "cell_type": "code",
   "execution_count": null,
   "id": "e386876c",
   "metadata": {},
   "outputs": [],
   "source": [
    "# This query selects all columns from the sql_101_transactions table.\n",
    "\n",
    "%%sql\n",
    "SELECT * -- Selecting all the columns\n",
    "FROM sql_101_transactions -- From the sql_101_transactions table\n",
    "LIMIT 5;"
   ]
  },
  {
   "cell_type": "markdown",
   "id": "3af225c8",
   "metadata": {},
   "source": [
    "Here, we added a `LIMIT` clause to only show the first 5 rows."
   ]
  },
  {
   "cell_type": "markdown",
   "id": "d9d957ab",
   "metadata": {},
   "source": [
    "Now, let's add a `WHERE` clause to limit the results after a certain date and an `ORDER BY` clause to see the transactions with the biggest amount first."
   ]
  },
  {
   "cell_type": "code",
   "execution_count": null,
   "id": "399df2e1",
   "metadata": {},
   "outputs": [],
   "source": [
    "# Adding WHERE and ORDER BY clauses\n",
    "\n",
    "%%sql\n",
    "SELECT * -- Selecting all the columns\n",
    "FROM sql_101_transactions -- From the sql_101_transactions table\n",
    "WHERE transaction_date >= '2024-06-01' -- With the date being June 1 or later\n",
    "ORDER BY amount DESC; -- Ordering by amount in descending order"
   ]
  },
  {
   "cell_type": "markdown",
   "id": "18209b3d",
   "metadata": {},
   "source": [
    "# LIMIT Clause 👮‍♂️\n",
    "\n",
    "The `LIMIT` clause is useful when you need to quickly assess the structure of a table because it effectively truncates the result set to a manageable number of records."
   ]
  },
  {
   "cell_type": "code",
   "execution_count": null,
   "id": "4c3328c8",
   "metadata": {},
   "outputs": [],
   "source": [
    "# Example using LIMIT to display the first 5 rows\n",
    "\n",
    "%%sql\n",
    "SELECT *\n",
    "FROM sql_101_transactions\n",
    "LIMIT 5;"
   ]
  },
  {
   "cell_type": "markdown",
   "id": "496b79d2",
   "metadata": {},
   "source": [
    "# WHERE Clause 📌\n",
    "\n",
    "The `WHERE` clause is *where* you put your filters (pun intended).\n",
    "\n",
    "The most basic form of filter is based on a column value, and you can use comparison operators to express it:\n",
    "\n",
    "- `COLUMN = value`\n",
    "- `COLUMN <> value` (*`<>` means \"is different from\"; some other languages use the symbol `!=` for this*)\n",
    "- `COLUMN <, <=, >, >= value`\n",
    "- `COLUMN IN (value1, value2, value3, ...)`\n",
    "- `COLUMN NOT IN (value1, value2, value3, ...)`\n",
    "- Any combination of the above using `AND` and `OR` and isolating logical blocks with parentheses `( )`"
   ]
  },
  {
   "cell_type": "code",
   "execution_count": null,
   "id": "1e84bf72",
   "metadata": {},
   "outputs": [],
   "source": [
    "# Let's see how to apply the WHERE clause to add a filter to the query.\n",
    "\n",
    "%%sql\n",
    "SELECT *\n",
    "FROM sql_101_transactions\n",
    "WHERE sku_id IN (1, 2, 3);"
   ]
  },
  {
   "cell_type": "markdown",
   "id": "ef34ed3a",
   "metadata": {},
   "source": [
    "This query selects all transactions where the `sku_id` is either 1, 2, or 3."
   ]
  },
  {
   "cell_type": "markdown",
   "id": "02a9014d",
   "metadata": {},
   "source": [
    "# Fun Exercises 📚"
   ]
  },
  {
   "cell_type": "markdown",
   "id": "c9ffe573",
   "metadata": {},
   "source": [
    "**Exercise 1:**\n",
    "\n",
    "Select all transactions where the `price_per_unit` is higher than 2 and the `store_id` is 1."
   ]
  },
  {
   "cell_type": "code",
   "execution_count": null,
   "id": "1bdfc43d",
   "metadata": {},
   "outputs": [],
   "source": [
    "# Write your SQL query here:\n",
    "\n",
    "%%sql\n",
    "SELECT *\n",
    "FROM sql_101_transactions\n",
    "WHERE price_per_unit > 2 AND store_id = 1;"
   ]
  },
  {
   "cell_type": "markdown",
   "id": "dea94915",
   "metadata": {},
   "source": [
    "**Exercise 2:**\n",
    "\n",
    "Select all transactions where the `amount` is less than or equal to 2 and the `sku_id` is not in (3, 4, 5)."
   ]
  },
  {
   "cell_type": "code",
   "execution_count": null,
   "id": "86d8fc5e",
   "metadata": {},
   "outputs": [],
   "source": [
    "# Write your SQL query here:\n",
    "\n",
    "%%sql\n",
    "SELECT *\n",
    "FROM sql_101_transactions\n",
    "WHERE amount <= 2 AND sku_id NOT IN (3, 4, 5);"
   ]
  },
  {
   "cell_type": "markdown",
   "id": "2a06729a",
   "metadata": {},
   "source": [
    "**Exercise 3:**\n",
    "\n",
    "Find all transactions that occurred between '2024-06-01' and '2024-06-30'."
   ]
  },
  {
   "cell_type": "code",
   "execution_count": null,
   "id": "5d5df2d9",
   "metadata": {},
   "outputs": [],
   "source": [
    "# Write your SQL query here:\n",
    "\n",
    "%%sql\n",
    "SELECT *\n",
    "FROM sql_101_transactions\n",
    "WHERE transaction_date BETWEEN '2024-06-01' AND '2024-06-30';"
   ]
  },
  {
   "cell_type": "markdown",
   "id": "1cd759b5",
   "metadata": {},
   "source": [
    "# Selecting Specific Columns 📋\n",
    "\n",
    "We can limit the list of columns that we select in a query by listing them:\n",
    "\n",
    "- **SELECT** `column1`, `column2`, `column3`, ..."
   ]
  },
  {
   "cell_type": "code",
   "execution_count": null,
   "id": "b882d789",
   "metadata": {},
   "outputs": [],
   "source": [
    "# Let's play with the SELECT statement to avoid displaying the IDs of the records.\n",
    "\n",
    "%%sql\n",
    "SELECT transaction_date, customer_id, amount,\n",
    "       amount * price_per_unit AS total_price\n",
    "FROM sql_101_transactions\n",
    "WHERE customer_id = 101;"
   ]
  },
  {
   "cell_type": "markdown",
   "id": "c7d0d5ed",
   "metadata": {},
   "source": [
    "In this query, we also calculated a new column `total_price` by multiplying `amount` and `price_per_unit`."
   ]
  },
  {
   "cell_type": "markdown",
   "id": "807c2b33",
   "metadata": {},
   "source": [
    "# ORDER BY Clause 🔼🔽\n",
    "\n",
    "We can sort our results in ascending or descending order. It works on numerical data as well as text data.\n",
    "\n",
    "- **ORDER BY** `column` *[ASC/DESC]*\n",
    "  - `ASC` for ascending order (default).\n",
    "  - `DESC` for descending order."
   ]
  },
  {
   "cell_type": "code",
   "execution_count": null,
   "id": "4b752615",
   "metadata": {},
   "outputs": [],
   "source": [
    "# Now let's remove the filter to get all transactions and order them by `total_price`.\n",
    "\n",
    "%%sql\n",
    "SELECT *,\n",
    "       amount * price_per_unit AS total_price\n",
    "FROM sql_101_transactions\n",
    "ORDER BY total_price DESC; -- Sorting by total_price in descending order"
   ]
  },
  {
   "cell_type": "markdown",
   "id": "44313532",
   "metadata": {},
   "source": [
    "# DISTINCT Keyword 🥇\n",
    "\n",
    "If we use `DISTINCT`, the query will run as normal, but before displaying, every duplicate row will be removed. This is convenient if we're searching for a list of unique values.\n",
    "\n",
    "Later on, we'll see the `GROUP BY` clause, which will allow us to get much more complex results, and we'll see that `DISTINCT` is just a more limited and simplified version of a `GROUP BY` in effect."
   ]
  },
  {
   "cell_type": "code",
   "execution_count": null,
   "id": "162d85f3",
   "metadata": {},
   "outputs": [],
   "source": [
    "# This is how we check the full list of SKUs.\n",
    "\n",
    "%%sql\n",
    "SELECT DISTINCT sku_id\n",
    "FROM sql_101_transactions;"
   ]
  },
  {
   "cell_type": "code",
   "execution_count": null,
   "id": "1d3dd142",
   "metadata": {},
   "outputs": [],
   "source": [
    "# This will give us all the unique combinations of customers and SKUs.\n",
    "\n",
    "%%sql\n",
    "SELECT DISTINCT customer_id, sku_id\n",
    "FROM sql_101_transactions\n",
    "ORDER BY customer_id, sku_id; -- Ordering to keep customer records together"
   ]
  },
  {
   "cell_type": "markdown",
   "id": "d77f16d6",
   "metadata": {},
   "source": [
    "# Other Fun Exercises 📚"
   ]
  },
  {
   "cell_type": "markdown",
   "id": "188d35aa",
   "metadata": {},
   "source": [
    "**Exercise 4:**\n",
    "\n",
    "Find all unique `customer_id` values who have purchased products from `sku_id` 1."
   ]
  },
  {
   "cell_type": "code",
   "execution_count": null,
   "id": "5200cd6b",
   "metadata": {},
   "outputs": [],
   "source": [
    "# Write your SQL query here:\n",
    "\n",
    "%%sql\n",
    "SELECT DISTINCT customer_id\n",
    "FROM sql_101_transactions\n",
    "WHERE sku_id = 1;"
   ]
  },
  {
   "cell_type": "markdown",
   "id": "988362d8",
   "metadata": {},
   "source": [
    "**Exercise 5:**\n",
    "\n",
    "Select all transactions where the `amount` multiplied by `price_per_unit` (i.e., `total_price`) exceeds 10."
   ]
  },
  {
   "cell_type": "code",
   "execution_count": null,
   "id": "fd175c13",
   "metadata": {},
   "outputs": [],
   "source": [
    "# Write your SQL query here:\n",
    "\n",
    "%%sql\n",
    "SELECT *,\n",
    "       amount * price_per_unit AS total_price\n",
    "FROM sql_101_transactions\n",
    "WHERE amount * price_per_unit > 10;"
   ]
  },
  {
   "cell_type": "markdown",
   "id": "d6098d0f",
   "metadata": {},
   "source": [
    "# String Functions ✂️\n",
    "\n",
    "Formatting is important. Sometimes, we need to manipulate string data to extract or combine certain parts.\n",
    "\n",
    "SQLite doesn't support `LEFT`, `RIGHT`, or `CONCAT` functions directly, but we can use `substr` and the concatenation operator `||`."
   ]
  },
  {
   "cell_type": "code",
   "execution_count": null,
   "id": "41dfcdb2",
   "metadata": {},
   "outputs": [],
   "source": [
    "# Example using substr function\n",
    "# Let's extract parts of the product names from the sql_101_product table.\n",
    "\n",
    "%%sql\n",
    "SELECT product_name,\n",
    "       substr(product_name, 1, 5) AS short_name,\n",
    "       substr(product_name, -5, 5) AS end_name\n",
    "FROM sql_101_product\n",
    "LIMIT 10;"
   ]
  },
  {
   "cell_type": "markdown",
   "id": "8b11a422",
   "metadata": {},
   "source": [
    "In this query, we take the first 5 characters and the last 5 characters of the `product_name` column."
   ]
  },
  {
   "cell_type": "code",
   "execution_count": null,
   "id": "4d8c5826",
   "metadata": {},
   "outputs": [],
   "source": [
    "# Example using concatenation operator to combine strings\n",
    "# Let's create a full description by combining brand and product_name.\n",
    "\n",
    "%%sql\n",
    "SELECT brand || ' ' || product_name AS full_description,\n",
    "       *\n",
    "FROM sql_101_product\n",
    "LIMIT 10;"
   ]
  },
  {
   "cell_type": "markdown",
   "id": "4b27b04d",
   "metadata": {},
   "source": [
    "# Table Statements 🛠\n",
    "\n",
    "So far, we've been selecting data from tables, but SQL also allows you to modify the tables themselves.\n",
    "\n",
    "Very briefly, these are the kinds of commands SQL supports:\n",
    "\n",
    "- **DDL** – Data Definition Language (`CREATE`, `ALTER`, `DROP`)\n",
    "- **DQL** – Data Query Language (`SELECT`)\n",
    "- **DML** – Data Manipulation Language (`INSERT`, `UPDATE`, `DELETE`)\n",
    "- **DCL** – Data Control Language (permissions)\n",
    "- **TCL** – Transaction Control Language (`COMMIT`, `ROLLBACK`)"
   ]
  },
  {
   "cell_type": "code",
   "execution_count": null,
   "id": "c75ac9fb",
   "metadata": {},
   "outputs": [],
   "source": [
    "# Let's create a new table called hkt_sql_customers.\n",
    "\n",
    "%%sql\n",
    "CREATE TABLE hkt_sql_customers (\n",
    "    customer_id INT,\n",
    "    customer_name TEXT,\n",
    "    customer_age INT\n",
    ");"
   ]
  },
  {
   "cell_type": "markdown",
   "id": "edf15530",
   "metadata": {},
   "source": [
    "We have now created a new table `hkt_sql_customers`."
   ]
  },
  {
   "cell_type": "code",
   "execution_count": null,
   "id": "0f8835b2",
   "metadata": {},
   "outputs": [],
   "source": [
    "# Inserting data into the table.\n",
    "\n",
    "%%sql\n",
    "INSERT INTO hkt_sql_customers (customer_id, customer_name, customer_age)\n",
    "VALUES (101, 'Alice', 30),\n",
    "       (102, 'Bob', 35),\n",
    "       (103, 'Charlie', 25);"
   ]
  },
  {
   "cell_type": "code",
   "execution_count": null,
   "id": "bf3f784e",
   "metadata": {},
   "outputs": [],
   "source": [
    "# Altering the table to add a new column.\n",
    "\n",
    "%%sql\n",
    "ALTER TABLE hkt_sql_customers ADD COLUMN customer_email TEXT;"
   ]
  },
  {
   "cell_type": "code",
   "execution_count": null,
   "id": "a16e0132",
   "metadata": {},
   "outputs": [],
   "source": [
    "# Inserting a new row with the additional column.\n",
    "\n",
    "%%sql\n",
    "INSERT INTO hkt_sql_customers (customer_id, customer_name, customer_age, customer_email)\n",
    "VALUES (104, 'Diana', 28, 'diana@example.com');"
   ]
  },
  {
   "cell_type": "code",
   "execution_count": null,
   "id": "9fed2575",
   "metadata": {},
   "outputs": [],
   "source": [
    "# Updating rows where `customer_email` is NULL.\n",
    "\n",
    "%%sql\n",
    "UPDATE hkt_sql_customers\n",
    "SET customer_email = 'unknown@example.com'\n",
    "WHERE customer_email IS NULL;"
   ]
  },
  {
   "cell_type": "code",
   "execution_count": null,
   "id": "cb97b9a9",
   "metadata": {},
   "outputs": [],
   "source": [
    "# Deleting a row from the table.\n",
    "\n",
    "%%sql\n",
    "DELETE\n",
    "FROM hkt_sql_customers\n",
    "WHERE customer_id = 103;"
   ]
  },
  {
   "cell_type": "code",
   "execution_count": null,
   "id": "c304f5e4",
   "metadata": {},
   "outputs": [],
   "source": [
    "# Selecting all data from `hkt_sql_customers` to see the current state.\n",
    "\n",
    "%%sql\n",
    "SELECT *\n",
    "FROM hkt_sql_customers;"
   ]
  },
  {
   "cell_type": "code",
   "execution_count": null,
   "id": "a897ef24",
   "metadata": {},
   "outputs": [],
   "source": [
    "# Dropping the table.\n",
    "\n",
    "%%sql\n",
    "DROP TABLE hkt_sql_customers;"
   ]
  },
  {
   "cell_type": "markdown",
   "id": "fd5ed51e",
   "metadata": {},
   "source": [
    "# Conclusion 🎉\n",
    "\n",
    "In this lesson, we've covered the basics of SQL, including how to select data, filter it, order it, perform basic data manipulation, and work with string functions using the tables we have created.\n",
    "\n",
    "SQL is a powerful language for interacting with databases, and understanding these fundamentals is essential for anyone working with data.\n",
    "\n",
    "In the next lessons, we'll delve deeper into grouping data, joining tables, and more advanced SQL functionalities."
   ]
  }
 ],
 "metadata": {
  "jupytext": {
   "cell_metadata_filter": "-all",
   "main_language": "python",
   "notebook_metadata_filter": "-all"
  }
 },
 "nbformat": 4,
 "nbformat_minor": 5
}
